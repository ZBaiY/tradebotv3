{
 "cells": [
  {
   "cell_type": "code",
   "execution_count": null,
   "metadata": {},
   "outputs": [],
   "source": [
    "from binance.client import Client\n",
    "from binance.exceptions import BinanceAPIException"
   ]
  },
  {
   "cell_type": "code",
   "execution_count": null,
   "metadata": {},
   "outputs": [],
   "source": [
    "{\n",
    "    \"BTCUSDT\": {\n",
    "        \"start_date\": \"2023-01-01\",\n",
    "        \"interval\": \"15m\",\n",
    "        \"end_date\": \"2024-09-24\",\n",
    "        \"model\": {\"method\": \"Base_RSIwADX_type0\", \"params\": {\"adx_threshold\": 20, \"variance_factor\": 1.8, \"rsi_var_window\": 23}},\n",
    "        \"risk_manager\": {\"stop_method\": \"atr\", \"stop_params\": {\"para1\": 0.05, \"take_profit\": 0.1, \"atr_window\": 14},\n",
    "                         \"take_method\": \"risk_reward\", \"take_params\": {\"risk_reward_ratio\": 4, \"atr_window\": 14},\n",
    "                         \"position_method\": \"none\", \"position_params\": {\"risk_per_trade\": 1.0}},\n",
    "        \"decision_maker\": {\"method\": \"threshold_mode1\", \"params\": {\"threshold\": 0.010, \"para2\": \"p2\"}}\n",
    "    }\n",
    "}\n"
   ]
  }
 ],
 "metadata": {
  "kernelspec": {
   "display_name": "Python 3",
   "language": "python",
   "name": "python3"
  },
  "language_info": {
   "name": "python",
   "version": "3.12.3"
  }
 },
 "nbformat": 4,
 "nbformat_minor": 2
}
