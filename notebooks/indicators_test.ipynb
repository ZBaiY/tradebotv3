{
 "cells": [
  {
   "cell_type": "code",
   "execution_count": 1,
   "metadata": {},
   "outputs": [
    {
     "name": "stdout",
     "output_type": "stream",
     "text": [
      "/Users/zhaoyub/Documents/Tradings/tradebotv3\n"
     ]
    },
    {
     "name": "stderr",
     "output_type": "stream",
     "text": [
      "/Users/zhaoyub/Library/Python/3.12/lib/python/site-packages/IPython/core/magics/osm.py:417: UserWarning: This is now an optional IPython functionality, setting dhist requires you to install the `pickleshare` library.\n",
      "  self.shell.db['dhist'] = compress_dhist(dhist)[-100:]\n"
     ]
    }
   ],
   "source": [
    "import os\n",
    "import sys\n",
    "# Add the src directory to the Python path\n",
    "project_root = os.path.abspath(os.path.join(os.getcwd(), '..'))\n",
    "sys.path.append(project_root)\n",
    "from src.data_handling.historical_data_handler import SingleSymbolDataHandler\n",
    "from src.feature_engineering.feature_extractor import SingleSymbolFeatureExtractor\n",
    "%cd $project_root"
   ]
  },
  {
   "cell_type": "code",
   "execution_count": 2,
   "metadata": {},
   "outputs": [],
   "source": [
    "%load_ext autoreload"
   ]
  },
  {
   "cell_type": "code",
   "execution_count": 7,
   "metadata": {},
   "outputs": [],
   "source": [
    "import pandas as pd\n",
    "import numpy as np"
   ]
  },
  {
   "cell_type": "code",
   "execution_count": 31,
   "metadata": {},
   "outputs": [],
   "source": [
    "datahandler = SingleSymbolDataHandler('BTCUSDT')\n",
    "inter, begin, end = '15m', '2023-01-01', '2024-09-24'\n",
    "datahandler.load_data(inter, begin, end)\n",
    "BTC_indicator = SingleSymbolFeatureExtractor('BTCUSDT', datahandler)\n",
    "BTC_indicator.load_full_range()\n",
    "indicators = BTC_indicator.indicators[['rsi', 'macd', 'stoch_k', 'bollinger_upper', 'atr', 'obv', 'vwap', 'adx']]\n",
    "indicators = pd.concat([indicators,datahandler.cleaned_data[['close', 'volume']]],axis= 1)"
   ]
  },
  {
   "cell_type": "code",
   "execution_count": 32,
   "metadata": {},
   "outputs": [],
   "source": [
    "indicators['rsi_variance'] = indicators['rsi'].rolling(20).std().bfill().ffill()"
   ]
  },
  {
   "cell_type": "code",
   "execution_count": 33,
   "metadata": {},
   "outputs": [],
   "source": [
    "from sklearn.preprocessing import MinMaxScaler, StandardScaler\n",
    "scaler = MinMaxScaler()\n",
    "indicators_scaled = pd.DataFrame(scaler.fit_transform(indicators), columns=indicators.columns)"
   ]
  },
  {
   "cell_type": "code",
   "execution_count": 34,
   "metadata": {},
   "outputs": [
    {
     "data": {
      "text/plain": [
       "rsi_variance       1.000000\n",
       "adx                0.290782\n",
       "atr                0.194216\n",
       "volume             0.186044\n",
       "obv                0.011247\n",
       "bollinger_upper    0.001096\n",
       "vwap              -0.008054\n",
       "close             -0.008255\n",
       "rsi               -0.008459\n",
       "stoch_k           -0.010975\n",
       "macd              -0.031835\n",
       "Name: rsi_variance, dtype: float64"
      ]
     },
     "execution_count": 34,
     "metadata": {},
     "output_type": "execute_result"
    }
   ],
   "source": [
    "correlation_matrix = indicators_scaled.corr()\n",
    "correlation_matrix['rsi_variance'].sort_values(ascending=False)"
   ]
  },
  {
   "cell_type": "code",
   "execution_count": null,
   "metadata": {},
   "outputs": [],
   "source": []
  }
 ],
 "metadata": {
  "kernelspec": {
   "display_name": "Python 3",
   "language": "python",
   "name": "python3"
  },
  "language_info": {
   "codemirror_mode": {
    "name": "ipython",
    "version": 3
   },
   "file_extension": ".py",
   "mimetype": "text/x-python",
   "name": "python",
   "nbconvert_exporter": "python",
   "pygments_lexer": "ipython3",
   "version": "3.12.3"
  }
 },
 "nbformat": 4,
 "nbformat_minor": 2
}
